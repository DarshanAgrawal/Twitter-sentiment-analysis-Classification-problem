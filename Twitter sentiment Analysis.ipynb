{
 "cells": [
  {
   "cell_type": "code",
   "execution_count": 8,
   "metadata": {},
   "outputs": [],
   "source": [
    "import numpy as np\n",
    "import pandas as pd\n",
    "import string\n",
    "from nltk.tokenize import word_tokenize\n",
    "from nltk.stem import PorterStemmer\n",
    "from nltk.stem import WordNetLemmatizer\n",
    "from nltk.corpus import stopwords,wordnet\n",
    "from nltk import pos_tag\n",
    "from nltk import FreqDist\n",
    "from nltk import NaiveBayesClassifier\n",
    "from nltk.classify.scikitlearn import SklearnClassifier\n",
    "from sklearn.feature_extraction.text import CountVectorizer\n",
    "from sklearn.feature_extraction.text import TfidfVectorizer\n",
    "from sklearn.model_selection import train_test_split\n",
    "from sklearn.svm import SVC\n",
    "from sklearn.metrics import classification_report, confusion_matrix\n",
    "from sklearn.model_selection import GridSearchCV"
   ]
  },
  {
   "cell_type": "code",
   "execution_count": 9,
   "metadata": {},
   "outputs": [],
   "source": [
    "df_train = pd.read_csv(\"training_twitter_x_y_train.csv\")\n",
    "df_test = pd.read_csv(\"test_twitter_x_test.csv\")"
   ]
  },
  {
   "cell_type": "code",
   "execution_count": 10,
   "metadata": {},
   "outputs": [],
   "source": [
    "Y_train = np.array(df_train[\"airline_sentiment\"])\n",
    "X_train = np.array(df_train[\"text\"])\n",
    "\n",
    "X_test = np.array(df_test[\"text\"])"
   ]
  },
  {
   "cell_type": "code",
   "execution_count": 11,
   "metadata": {},
   "outputs": [],
   "source": [
    "stop_words = set(stopwords.words('english'))\n",
    "punctuations_list = list(string.punctuation)\n",
    "stop_words.update(punctuations_list)"
   ]
  },
  {
   "cell_type": "code",
   "execution_count": 23,
   "metadata": {},
   "outputs": [
    {
     "name": "stdout",
     "output_type": "stream",
     "text": [
      "[('A', 'DT'), ('m', 'NN'), ('a', 'DT'), ('z', 'NN'), ('i', 'NN'), ('n', 'VBP'), ('g', 'NN')]\n",
      "[('Amazing', 'VBG')]\n"
     ]
    }
   ],
   "source": [
    "## Remember it as an example...Its Important \n",
    "from nltk import pos_tag\n",
    "w = \"Amazing\"\n",
    "print(pos_tag(w))\n",
    "print(pos_tag([w]))"
   ]
  },
  {
   "cell_type": "code",
   "execution_count": 12,
   "metadata": {},
   "outputs": [],
   "source": [
    "lemmatizer = WordNetLemmatizer()"
   ]
  },
  {
   "cell_type": "code",
   "execution_count": 13,
   "metadata": {},
   "outputs": [],
   "source": [
    "def get_simple_pos(w):\n",
    "    if w.startswith('J'):\n",
    "        return wordnet.ADJ\n",
    "    elif w.startswith('V'):\n",
    "        return wordnet.VERB\n",
    "    elif w.startswith('N'):\n",
    "        return wordnet.NOUN\n",
    "    elif w.startswith('R'):\n",
    "        return wordnet.ADV\n",
    "    else:\n",
    "        return wordnet.NOUN\n",
    "\n",
    "def clean_the_data(text):\n",
    "    tokenized_words = word_tokenize(text)\n",
    "    output_words_list =[]\n",
    "    for word in tokenized_words:\n",
    "        if word.lower() not in stop_words:\n",
    "            pos = pos_tag([word])  ## Here, we should pass the word in the form of list as discussed above\n",
    "            clean_word = lemmatizer.lemmatize(word,pos = get_simple_pos(pos[0][1]))\n",
    "            output_words_list.append(clean_word.lower())\n",
    "    return \" \".join(output_words_list)"
   ]
  },
  {
   "cell_type": "code",
   "execution_count": 14,
   "metadata": {},
   "outputs": [],
   "source": [
    "X_train = [clean_the_data(review) for review in X_train]"
   ]
  },
  {
   "cell_type": "code",
   "execution_count": 15,
   "metadata": {},
   "outputs": [],
   "source": [
    "X_test = [clean_the_data(review) for review in X_test]"
   ]
  },
  {
   "cell_type": "code",
   "execution_count": 16,
   "metadata": {},
   "outputs": [],
   "source": [
    "count_vec = CountVectorizer(max_features = 3000)\n",
    "X_train_transformed = count_vec.fit_transform(X_train)\n",
    "# print(X_train_transformed.todense())\n",
    "# print(count_vec.get_feature_names())"
   ]
  },
  {
   "cell_type": "code",
   "execution_count": 17,
   "metadata": {},
   "outputs": [],
   "source": [
    "x1,x2,y1,y2 = train_test_split(X_train_transformed,Y_train)"
   ]
  },
  {
   "cell_type": "code",
   "execution_count": 18,
   "metadata": {},
   "outputs": [
    {
     "data": {
      "text/plain": [
       "SVC(C=100.0, break_ties=False, cache_size=200, class_weight=None, coef0=0.0,\n",
       "    decision_function_shape='ovr', degree=3, gamma=0.001, kernel='rbf',\n",
       "    max_iter=-1, probability=False, random_state=None, shrinking=True,\n",
       "    tol=0.001, verbose=False)"
      ]
     },
     "execution_count": 18,
     "metadata": {},
     "output_type": "execute_result"
    }
   ],
   "source": [
    "## Using grid_search to find best C & gamma values\n",
    "clf = SVC()\n",
    "grid = {'C':[1e2, 1e3, 5e3, 1e4, 5e4, 1e5],\n",
    "        'gamma': [1e-3, 5e-4, 1e-4,5e-3]}\n",
    "cv_object = GridSearchCV(clf,grid)\n",
    "cv_object.fit(x1, y1)\n",
    "cv_object.best_estimator_"
   ]
  },
  {
   "cell_type": "code",
   "execution_count": 19,
   "metadata": {
    "scrolled": true
   },
   "outputs": [
    {
     "name": "stdout",
     "output_type": "stream",
     "text": [
      "Accuracy Score :  0.7868852459016393\n",
      "Confusion Matrix :  [[1537  141   50]\n",
      " [ 185  327   54]\n",
      " [  82   73  296]]\n",
      "Classification Report :                precision    recall  f1-score   support\n",
      "\n",
      "    negative       0.85      0.89      0.87      1728\n",
      "     neutral       0.60      0.58      0.59       566\n",
      "    positive       0.74      0.66      0.70       451\n",
      "\n",
      "    accuracy                           0.79      2745\n",
      "   macro avg       0.73      0.71      0.72      2745\n",
      "weighted avg       0.78      0.79      0.78      2745\n",
      "\n"
     ]
    }
   ],
   "source": [
    "clf = SVC(C=100,gamma=0.001)  ## From the above grid_search, we see that C=100 & gamma=0.001 will work best for us\n",
    "clf.fit(x1, y1)\n",
    "Y_pred = clf.predict(x2)\n",
    "print(\"Accuracy Score : \",clf.score(x2,y2))\n",
    "print(\"Confusion Matrix : \",confusion_matrix(y2,Y_pred))\n",
    "print(\"Classification Report : \",classification_report(y2,Y_pred))"
   ]
  },
  {
   "cell_type": "markdown",
   "metadata": {},
   "source": [
    "   ## Now predicting for the given test dataset"
   ]
  },
  {
   "cell_type": "code",
   "execution_count": 20,
   "metadata": {},
   "outputs": [],
   "source": [
    "count_vec = CountVectorizer(max_features = 3000)\n",
    "X_train_transformed = count_vec.fit_transform(X_train)\n",
    "X_test_transformed = count_vec.transform(X_test)"
   ]
  },
  {
   "cell_type": "code",
   "execution_count": 21,
   "metadata": {},
   "outputs": [],
   "source": [
    "clf = SVC(C=100,gamma=0.001)\n",
    "clf.fit(X_train_transformed,Y_train)\n",
    "Y_pred = clf.predict(X_test_transformed)\n",
    "#print(Y_pred)"
   ]
  },
  {
   "cell_type": "code",
   "execution_count": 22,
   "metadata": {},
   "outputs": [],
   "source": [
    "## Saving the predicions to the external csv file\n",
    "file = open('Twitter_sentiment_analysis_predictions_file_using_SVM.csv', 'w') \n",
    "for i in range(len(Y_pred)):\n",
    "    file.write(f\"{Y_pred[i]}\\n\")"
   ]
  }
 ],
 "metadata": {
  "kernelspec": {
   "display_name": "Python 3",
   "language": "python",
   "name": "python3"
  },
  "language_info": {
   "codemirror_mode": {
    "name": "ipython",
    "version": 3
   },
   "file_extension": ".py",
   "mimetype": "text/x-python",
   "name": "python",
   "nbconvert_exporter": "python",
   "pygments_lexer": "ipython3",
   "version": "3.7.3"
  }
 },
 "nbformat": 4,
 "nbformat_minor": 4
}
